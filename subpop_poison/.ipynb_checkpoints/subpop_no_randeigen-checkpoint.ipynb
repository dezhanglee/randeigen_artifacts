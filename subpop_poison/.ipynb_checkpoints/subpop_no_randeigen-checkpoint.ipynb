{
 "cells": [
  {
   "cell_type": "code",
   "execution_count": 1,
   "id": "637cb3c3-86aa-4b77-b53b-a9fb1305c42f",
   "metadata": {},
   "outputs": [],
   "source": [
    "from networks import ConvNet\n",
    "import numpy as np\n",
    "import torch\n",
    "from torch.autograd import Variable\n",
    "from torch import nn, optim\n",
    "from torch.utils.data import DataLoader, random_split\n",
    "import torchvision\n",
    "from torchvision import datasets\n",
    "import torch.nn.functional as F\n",
    "import torchvision.transforms as transforms\n",
    "from tqdm import tqdm\n",
    "import time\n",
    "import copy\n",
    "\n",
    "device=0"
   ]
  },
  {
   "cell_type": "code",
   "execution_count": 2,
   "id": "6a2d91fa-0710-4fb6-a219-21eec6596cf7",
   "metadata": {},
   "outputs": [],
   "source": [
    "transform=torchvision.transforms.Compose([\n",
    "                               torchvision.transforms.ToTensor(),\n",
    "                               torchvision.transforms.Normalize(\n",
    "                                 (0.1307,), (0.3081,))])\n",
    "\n",
    "train_set = torchvision.datasets.MNIST(root='../data', train=True, download=True, transform=transform)\n",
    "# batch_size = len(train_set) // args.nworker\n",
    "train_loader = DataLoader(train_set)\n",
    "test_loader = DataLoader(torchvision.datasets.MNIST(root='../data', train=False, download=True, transform=transform))\n",
    "\n",
    "network = ConvNet(input_size=28, input_channel=1, classes=10, filters1=30, filters2=30, fc_size=200).to(device)"
   ]
  },
  {
   "cell_type": "code",
   "execution_count": 3,
   "id": "f248b736-0e4b-48a7-934e-6dc24f36ffe3",
   "metadata": {},
   "outputs": [],
   "source": [
    "class Net(nn.Module):\n",
    "    def __init__(self):\n",
    "        super(Net, self).__init__()\n",
    "        self.conv_1 = nn.Conv2d(in_channels=1, out_channels=4, kernel_size=5, stride=1)\n",
    "        self.conv_2 = nn.Conv2d(in_channels=4, out_channels=10, kernel_size=5, stride=1)\n",
    "        self.fc_1 = nn.Linear(in_features=4 * 4 * 10, out_features=100)\n",
    "        self.fc_2 = nn.Linear(in_features=100, out_features=10)\n",
    "\n",
    "    def forward(self, x):\n",
    "        x = F.relu(self.conv_1(x))\n",
    "        x = F.max_pool2d(x, 2, 2)\n",
    "        x = F.relu(self.conv_2(x))\n",
    "        x = F.max_pool2d(x, 2, 2)\n",
    "        x = x.view(-1, 4 * 4 * 10)\n",
    "        x = F.relu(self.fc_1(x))\n",
    "        x = self.fc_2(x)\n",
    "        return x"
   ]
  },
  {
   "cell_type": "code",
   "execution_count": 4,
   "id": "3aa4a5ca-8943-4b7c-a2ea-f49c6c4dd633",
   "metadata": {},
   "outputs": [],
   "source": [
    "network = Net().to(device)"
   ]
  },
  {
   "cell_type": "code",
   "execution_count": 5,
   "id": "3addd8be-43d9-48e2-8890-6afb2f46ad47",
   "metadata": {},
   "outputs": [],
   "source": [
    "# poisoning rate\n",
    "alpha = 2\n",
    "# alpha=0\n",
    "\n",
    "# do clustering to get a subpop\n",
    "k=100 # recommended param in paper\n",
    "\n",
    "from sklearn.cluster import KMeans\n",
    "kmeans = KMeans(n_clusters=k)\n",
    "\n",
    "x_train = torch.Tensor(np.array([i[0][0] for i in train_loader])).to(device)\n",
    "y_train = torch.Tensor(np.array([i[1][0] for i in train_loader])).type(torch.long).to(device)\n",
    "\n"
   ]
  },
  {
   "cell_type": "code",
   "execution_count": 7,
   "id": "f1cce140-643e-4ffa-83d8-17b42fc2a046",
   "metadata": {},
   "outputs": [],
   "source": [
    "# params (LR) recommended in paper\n",
    "criterion = nn.CrossEntropyLoss()\n",
    "optimizer = optim.SGD(network.parameters(), lr=0.001)"
   ]
  },
  {
   "cell_type": "code",
   "execution_count": 8,
   "id": "9d2c2c46-c8a0-4fb7-83ea-d682ae367df3",
   "metadata": {},
   "outputs": [
    {
     "name": "stdout",
     "output_type": "stream",
     "text": [
      "epoch 0\n",
      "epoch 1\n",
      "epoch 2\n",
      "epoch 3\n",
      "epoch 4\n",
      "epoch 5\n",
      "epoch 6\n",
      "epoch 7\n",
      "epoch 8\n",
      "epoch 9\n",
      "epoch 10\n",
      "epoch 11\n",
      "epoch 12\n",
      "epoch 13\n",
      "epoch 14\n",
      "epoch 15\n",
      "epoch 16\n",
      "epoch 17\n",
      "epoch 18\n",
      "epoch 19\n",
      "epoch 20\n",
      "epoch 21\n",
      "epoch 22\n",
      "epoch 23\n",
      "epoch 24\n",
      "epoch 25\n",
      "epoch 26\n",
      "epoch 27\n",
      "epoch 28\n",
      "epoch 29\n",
      "epoch 30\n",
      "epoch 31\n",
      "epoch 32\n",
      "epoch 33\n",
      "epoch 34\n",
      "epoch 35\n",
      "epoch 36\n",
      "epoch 37\n",
      "epoch 38\n",
      "epoch 39\n",
      "epoch 40\n",
      "epoch 41\n",
      "epoch 42\n",
      "epoch 43\n",
      "epoch 44\n",
      "epoch 45\n",
      "epoch 46\n",
      "epoch 47\n",
      "epoch 48\n",
      "epoch 49\n"
     ]
    }
   ],
   "source": [
    "# train a base model with 20% of the training data, then we fine tune on the poisoned data\n",
    "\n",
    "n_epoch = 50\n",
    "batch_size = 512\n",
    "train_set_size = len(x_train)//5\n",
    "for _ in range(n_epoch):\n",
    "    print(\"epoch \" + str(_))\n",
    "    \n",
    "    for i in range(0,train_set_size,batch_size):\n",
    "\n",
    "    \n",
    "        feature = x_train[i:i+batch_size]\n",
    "        feature.requires_grad = True  ### CRUCIAL LINE !!!\n",
    "        target = y_train[i:i+batch_size]\n",
    "        optimizer.zero_grad()\n",
    "        output = network(feature)\n",
    "        loss = criterion(output, target)\n",
    "        loss.backward()\n",
    "        optimizer.step()"
   ]
  },
  {
   "cell_type": "code",
   "execution_count": 9,
   "id": "5464999f-d5aa-4725-8b1f-62ccd903ee91",
   "metadata": {},
   "outputs": [],
   "source": [
    "x_train = x_train[train_set_size:]\n",
    "y_train = y_train[train_set_size:]"
   ]
  },
  {
   "cell_type": "code",
   "execution_count": null,
   "id": "d8bd6b3a-9216-4cfc-a53d-504d24478379",
   "metadata": {},
   "outputs": [],
   "source": []
  },
  {
   "cell_type": "code",
   "execution_count": 10,
   "id": "718c5320-e1c3-49b2-af0a-d1e50b070327",
   "metadata": {},
   "outputs": [],
   "source": [
    "x_train_flat = [i.flatten().cpu() for i in x_train]"
   ]
  },
  {
   "cell_type": "code",
   "execution_count": 11,
   "id": "bb92d89e-09e6-48eb-8b15-ef39df6c3bab",
   "metadata": {},
   "outputs": [],
   "source": [
    "cluster_labels  = kmeans.fit_predict(x_train_flat)"
   ]
  },
  {
   "cell_type": "code",
   "execution_count": 12,
   "id": "0dcfdcf0-a1e1-4ebc-8460-fcce894713bd",
   "metadata": {},
   "outputs": [],
   "source": [
    "cluster_count = dict()\n",
    "for i in cluster_labels:\n",
    "    cluster_count[i] = cluster_count.get(i,0) + 1"
   ]
  },
  {
   "cell_type": "code",
   "execution_count": 13,
   "id": "4b10fc91-f914-4c1f-b35f-e08ed3c6f4b1",
   "metadata": {},
   "outputs": [],
   "source": [
    "# poison 5 smallest subpopulations\n",
    "poison_cluster = sorted([i for i in cluster_count.items()], key=lambda x:x[1])[:5]\n",
    "n_poison_each_cluster = dict([(i[0], int(i[1]*alpha)) for i in poison_cluster])"
   ]
  },
  {
   "cell_type": "code",
   "execution_count": 14,
   "id": "73aa9c7e-138b-4fd3-81c1-7f83a63c22eb",
   "metadata": {},
   "outputs": [
    {
     "data": {
      "text/plain": [
       "{89: 468, 67: 550, 57: 554, 69: 558, 88: 590}"
      ]
     },
     "execution_count": 14,
     "metadata": {},
     "output_type": "execute_result"
    }
   ],
   "source": [
    "n_poison_each_cluster"
   ]
  },
  {
   "cell_type": "code",
   "execution_count": 15,
   "id": "252b3a59-0272-424d-add2-c7b8ff917726",
   "metadata": {},
   "outputs": [
    {
     "data": {
      "text/plain": [
       "[(89, 234), (67, 275), (57, 277), (69, 279), (88, 295)]"
      ]
     },
     "execution_count": 15,
     "metadata": {},
     "output_type": "execute_result"
    }
   ],
   "source": [
    "poison_cluster"
   ]
  },
  {
   "cell_type": "code",
   "execution_count": 16,
   "id": "5b6b8f39-bc87-4077-961a-9c80621f9069",
   "metadata": {},
   "outputs": [],
   "source": [
    "import random\n",
    "random.seed(0)\n",
    "\n",
    "new_x = []\n",
    "new_y = []\n",
    "new_y_correct = []\n",
    "for i in range(len(y_train)):\n",
    "    cluster_y = cluster_labels[i]\n",
    "    if cluster_y in n_poison_each_cluster and n_poison_each_cluster[cluster_y] > 0:\n",
    "        for _ in range(alpha):\n",
    "            new_y.append((y_train[i]+random.randint(1,9))%10)\n",
    "            new_y_correct.append(y_train[i])\n",
    "            new_x.append(x_train[i])\n",
    "            n_poison_each_cluster[cluster_y] = n_poison_each_cluster[cluster_y] - 1\n",
    "        "
   ]
  },
  {
   "cell_type": "code",
   "execution_count": 17,
   "id": "aa8172fd-8e56-4844-a824-f4be05d241c3",
   "metadata": {},
   "outputs": [],
   "source": [
    "x_train_poisoned = torch.concat((x_train, torch.Tensor( np.array([i.cpu() for i in new_x])).to(device)))\n",
    "y_train_poisoned = torch.concat((y_train, torch.Tensor( np.array([i.cpu() for i in new_y])).to(device)))\n",
    "y_train_correct = = torch.concat((y_train, torch.Tensor( np.array([i.cpu() for i in new_y_correct])).to(device)))\n",
    "# y_train_poisoned = y_train + new_y"
   ]
  },
  {
   "cell_type": "code",
   "execution_count": 18,
   "id": "a04ec384-13c0-469c-914c-727b59d993cc",
   "metadata": {},
   "outputs": [],
   "source": [
    "x_train_poisoned = x_train_poisoned.to(device)\n",
    "y_train_poisoned = y_train_poisoned.type(torch.long).to(device)"
   ]
  },
  {
   "cell_type": "code",
   "execution_count": 19,
   "id": "12593e45-30f5-431f-be4a-01a672fb4c36",
   "metadata": {},
   "outputs": [],
   "source": [
    "train_idx = [i for i in range(len(x_train_poisoned))]\n",
    "import random\n",
    "random.seed(0)\n",
    "train_idx_shuffle = random.shuffle(train_idx)\n",
    "x_train_poisoned = x_train_poisoned[train_idx_shuffle][0]\n",
    "y_train_poisoned = y_train_poisoned[train_idx_shuffle][0]"
   ]
  },
  {
   "cell_type": "code",
   "execution_count": null,
   "id": "d578cd0e-531c-4425-9eb1-d7abe112ff9e",
   "metadata": {},
   "outputs": [],
   "source": []
  },
  {
   "cell_type": "code",
   "execution_count": 20,
   "id": "0bd0dc33-a969-417f-9fb8-d244476eee47",
   "metadata": {},
   "outputs": [
    {
     "data": {
      "text/plain": [
       "torch.Size([50720, 1, 28, 28])"
      ]
     },
     "execution_count": 20,
     "metadata": {},
     "output_type": "execute_result"
    }
   ],
   "source": [
    "\n",
    "x_train_poisoned.shape"
   ]
  },
  {
   "cell_type": "code",
   "execution_count": null,
   "id": "bc8495d8-e798-473f-8894-7bf6911683cd",
   "metadata": {},
   "outputs": [],
   "source": []
  },
  {
   "cell_type": "code",
   "execution_count": 21,
   "id": "99fafc76-57df-4d4c-af9e-44e18c74845f",
   "metadata": {},
   "outputs": [],
   "source": [
    "# determine which of the training data falls into the cluster\n",
    "x_test = [i[0] for i in test_loader]\n",
    "y_test = [i[1] for i in test_loader]"
   ]
  },
  {
   "cell_type": "code",
   "execution_count": 22,
   "id": "800e0851-2eae-4187-b63b-14e63f112c4e",
   "metadata": {},
   "outputs": [],
   "source": [
    "x_poisoned_flat = [i.flatten().cpu() for i in x_train_poisoned]\n",
    "poisoned_cluster_labels = kmeans.predict(x_poisoned_flat)"
   ]
  },
  {
   "cell_type": "code",
   "execution_count": 26,
   "id": "53ac23ea-0859-4ea1-9f0b-f11efbc27254",
   "metadata": {
    "scrolled": true
   },
   "outputs": [
    {
     "name": "stdout",
     "output_type": "stream",
     "text": [
      "epoch 0\n",
      "0.9081046312178388 0.19191176470588237\n",
      "epoch 1\n",
      "0.9079116638078902 0.19019607843137254\n",
      "epoch 2\n",
      "0.907975986277873 0.18946078431372548\n",
      "epoch 3\n",
      "0.9080831903945111 0.18651960784313726\n",
      "epoch 4\n",
      "0.9080831903945111 0.18480392156862746\n",
      "epoch 5\n",
      "0.9079331046312178 0.18382352941176472\n",
      "epoch 6\n",
      "0.9081689536878216 0.18235294117647058\n",
      "epoch 7\n",
      "0.9082975986277874 0.18259803921568626\n",
      "epoch 8\n",
      "0.9085548885077187 0.1818627450980392\n",
      "epoch 9\n",
      "0.9086406518010292 0.18137254901960784\n",
      "epoch 10\n",
      "0.9086192109777016 0.17990196078431372\n",
      "epoch 11\n",
      "0.9087264150943396 0.1786764705882353\n",
      "epoch 12\n",
      "0.9087478559176673 0.17818627450980393\n",
      "epoch 13\n",
      "0.9088336192109777 0.17720588235294119\n",
      "epoch 14\n",
      "0.9090480274442538 0.17622549019607844\n",
      "epoch 15\n",
      "0.9090480274442538 0.17573529411764705\n",
      "epoch 16\n",
      "0.9091123499142367 0.17598039215686276\n",
      "epoch 17\n",
      "0.9090694682675815 0.17573529411764705\n",
      "epoch 18\n",
      "0.9092195540308747 0.17573529411764705\n",
      "epoch 19\n",
      "0.9092195540308747 0.17573529411764705\n",
      "epoch 20\n",
      "0.9093267581475128 0.175\n",
      "epoch 21\n",
      "0.9093910806174957 0.17450980392156862\n",
      "epoch 22\n",
      "0.9093696397941681 0.175\n",
      "epoch 23\n",
      "0.9094768439108062 0.1747549019607843\n",
      "epoch 24\n",
      "0.9093696397941681 0.17450980392156862\n",
      "epoch 25\n",
      "0.9093481989708405 0.17450980392156862\n",
      "epoch 26\n",
      "0.9094554030874785 0.17377450980392156\n",
      "epoch 27\n",
      "0.9096269296740995 0.17426470588235293\n",
      "epoch 28\n",
      "0.9096054888507719 0.17426470588235293\n",
      "epoch 29\n",
      "0.9097341337907375 0.17426470588235293\n",
      "epoch 30\n",
      "0.9097770154373928 0.17450980392156862\n",
      "epoch 31\n",
      "0.9097770154373928 0.17450980392156862\n",
      "epoch 32\n",
      "0.9098413379073756 0.17426470588235293\n",
      "epoch 33\n",
      "0.9099271012006861 0.17401960784313725\n",
      "epoch 34\n",
      "0.9100343053173242 0.17426470588235293\n",
      "epoch 35\n",
      "0.9100343053173242 0.17401960784313725\n",
      "epoch 36\n",
      "0.9099485420240138 0.17352941176470588\n",
      "epoch 37\n",
      "0.9099699828473413 0.1730392156862745\n",
      "epoch 38\n",
      "0.9100343053173242 0.17230392156862745\n",
      "epoch 39\n",
      "0.909991423670669 0.17205882352941176\n",
      "epoch 40\n",
      "0.9101200686106347 0.17205882352941176\n",
      "epoch 41\n",
      "0.9100771869639794 0.17230392156862745\n",
      "epoch 42\n",
      "0.9101629502572899 0.17205882352941176\n",
      "epoch 43\n",
      "0.9100771869639794 0.17205882352941176\n",
      "epoch 44\n",
      "0.9102058319039451 0.17181372549019608\n",
      "epoch 45\n",
      "0.9101415094339622 0.17205882352941176\n",
      "epoch 46\n",
      "0.9101415094339622 0.17205882352941176\n",
      "epoch 47\n",
      "0.9102487135506003 0.17181372549019608\n",
      "epoch 48\n",
      "0.9102272727272728 0.17181372549019608\n",
      "epoch 49\n",
      "0.9103130360205832 0.17181372549019608\n",
      "epoch 50\n",
      "0.9103559176672384 0.1713235294117647\n",
      "epoch 51\n",
      "0.9103987993138937 0.17107843137254902\n",
      "epoch 52\n",
      "0.9104845626072041 0.17107843137254902\n",
      "epoch 53\n",
      "0.9104845626072041 0.17107843137254902\n",
      "epoch 54\n",
      "0.9106132075471698 0.1715686274509804\n",
      "epoch 55\n",
      "0.9106346483704975 0.1715686274509804\n",
      "epoch 56\n",
      "0.910656089193825 0.17181372549019608\n",
      "epoch 57\n",
      "0.910827615780446 0.1715686274509804\n",
      "epoch 58\n",
      "0.9108919382504288 0.17181372549019608\n",
      "epoch 59\n",
      "0.9108919382504288 0.17181372549019608\n",
      "epoch 60\n",
      "0.9109991423670669 0.17205882352941176\n",
      "epoch 61\n",
      "0.9110634648370497 0.17181372549019608\n",
      "epoch 62\n",
      "0.9110420240137221 0.17181372549019608\n",
      "epoch 63\n",
      "0.9110420240137221 0.17205882352941176\n",
      "epoch 64\n",
      "0.9111277873070326 0.17205882352941176\n",
      "epoch 65\n",
      "0.9110634648370497 0.17205882352941176\n",
      "epoch 66\n",
      "0.9110634648370497 0.17205882352941176\n",
      "epoch 67\n",
      "0.9111492281303603 0.17205882352941176\n",
      "epoch 68\n",
      "0.9111277873070326 0.1715686274509804\n",
      "epoch 69\n",
      "0.9111492281303603 0.1713235294117647\n",
      "epoch 70\n",
      "0.9112778730703259 0.1713235294117647\n",
      "epoch 71\n",
      "0.9112993138936535 0.1713235294117647\n",
      "epoch 72\n",
      "0.9113636363636364 0.1713235294117647\n",
      "epoch 73\n",
      "0.9113850771869639 0.1713235294117647\n",
      "epoch 74\n",
      "0.9113636363636364 0.1713235294117647\n",
      "epoch 75\n",
      "0.9113636363636364 0.17181372549019608\n",
      "epoch 76\n",
      "0.9114065180102916 0.17181372549019608\n",
      "epoch 77\n",
      "0.9114493996569468 0.1713235294117647\n",
      "epoch 78\n",
      "0.9115137221269297 0.17107843137254902\n",
      "epoch 79\n",
      "0.9115566037735849 0.17107843137254902\n",
      "epoch 80\n",
      "0.9116423670668954 0.1713235294117647\n",
      "epoch 81\n",
      "0.9116209262435677 0.17107843137254902\n",
      "epoch 82\n",
      "0.9116423670668954 0.17034313725490197\n",
      "epoch 83\n",
      "0.9116209262435677 0.17034313725490197\n",
      "epoch 84\n",
      "0.9117066895368782 0.17009803921568628\n",
      "epoch 85\n",
      "0.9117710120068611 0.17009803921568628\n",
      "epoch 86\n",
      "0.911835334476844 0.1698529411764706\n",
      "epoch 87\n",
      "0.9118782161234992 0.17009803921568628\n",
      "epoch 88\n",
      "0.9118996569468267 0.17058823529411765\n",
      "epoch 89\n",
      "0.9119210977701544 0.17083333333333334\n",
      "epoch 90\n",
      "0.911942538593482 0.17083333333333334\n",
      "epoch 91\n",
      "0.9120283018867924 0.17058823529411765\n",
      "epoch 92\n",
      "0.9120283018867924 0.17058823529411765\n",
      "epoch 93\n",
      "0.9120497427101201 0.17107843137254902\n",
      "epoch 94\n",
      "0.9120497427101201 0.17058823529411765\n",
      "epoch 95\n",
      "0.912114065180103 0.17083333333333334\n",
      "epoch 96\n",
      "0.9121998284734134 0.1698529411764706\n",
      "epoch 97\n",
      "0.9122427101200686 0.17009803921568628\n",
      "epoch 98\n",
      "0.9124356775300172 0.17009803921568628\n",
      "epoch 99\n",
      "0.9125 0.17009803921568628\n"
     ]
    }
   ],
   "source": [
    "import statistics \n",
    "import copy\n",
    "n_epoch = 100\n",
    "batch_size = 10000\n",
    "for _ in range(n_epoch):\n",
    "    print(\"epoch \" + str(_))\n",
    "    \n",
    "    for i in range(0,len(x_train_poisoned),batch_size):\n",
    "\n",
    "        \n",
    "        feature = x_train_poisoned[i:i+batch_size]\n",
    "        feature.requires_grad = True  ### CRUCIAL LINE !!!\n",
    "        target = y_train_poisoned[i:i+batch_size]\n",
    "        optimizer.zero_grad()\n",
    "        output = network(feature)\n",
    "        loss = criterion(output, target)\n",
    "        loss.backward()\n",
    "        optimizer.step()\n",
    "\n",
    "    with torch.no_grad():\n",
    "        ncorrect_clean = 0\n",
    "        ncorrect_poison = 0\n",
    "        \n",
    "        n_clean = 0\n",
    "        n_poison = 0\n",
    "        \n",
    "        out_prob = network(x_train_poisoned)\n",
    "        out_class = torch.argmax(out_prob, dim=-1)\n",
    "        for i in range(len(out_class)):\n",
    "            pred_class = int(out_class[i])\n",
    "            actual_class = int(y_train_correct[i])\n",
    "        \n",
    "            correct = int(pred_class == actual_class)\n",
    "        \n",
    "            if poisoned_cluster_labels[i] in n_poison_each_cluster:\n",
    "                ncorrect_poison += correct\n",
    "                n_poison += 1\n",
    "            else:\n",
    "                ncorrect_clean += correct\n",
    "                n_clean += 1\n",
    "        clean_acc = ncorrect_clean/n_clean\n",
    "        asr = 1-ncorrect_poison/n_poison\n",
    "        print(clean_acc, asr)"
   ]
  },
  {
   "cell_type": "code",
   "execution_count": null,
   "id": "b0459f0c-3646-4842-a49c-63317dd55a06",
   "metadata": {
    "scrolled": true
   },
   "outputs": [],
   "source": []
  },
  {
   "cell_type": "code",
   "execution_count": null,
   "id": "992815db-f7d4-4710-b4c7-c9892e6a5118",
   "metadata": {},
   "outputs": [],
   "source": []
  },
  {
   "cell_type": "code",
   "execution_count": null,
   "id": "ff710991-9145-4ec7-a796-dcbb2cab2776",
   "metadata": {},
   "outputs": [],
   "source": []
  },
  {
   "cell_type": "code",
   "execution_count": null,
   "id": "d225e222-570e-4ee4-9798-d0fcf08d0565",
   "metadata": {},
   "outputs": [],
   "source": []
  },
  {
   "cell_type": "code",
   "execution_count": null,
   "id": "285cbf2a-4f79-4ae0-bb88-04028cedf1c4",
   "metadata": {},
   "outputs": [],
   "source": []
  }
 ],
 "metadata": {
  "kernelspec": {
   "display_name": "Python 3 (ipykernel)",
   "language": "python",
   "name": "python3"
  },
  "language_info": {
   "codemirror_mode": {
    "name": "ipython",
    "version": 3
   },
   "file_extension": ".py",
   "mimetype": "text/x-python",
   "name": "python",
   "nbconvert_exporter": "python",
   "pygments_lexer": "ipython3",
   "version": "3.10.12"
  },
  "widgets": {
   "application/vnd.jupyter.widget-state+json": {
    "state": {},
    "version_major": 2,
    "version_minor": 0
   }
  }
 },
 "nbformat": 4,
 "nbformat_minor": 5
}
